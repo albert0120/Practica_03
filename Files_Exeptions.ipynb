{
  "nbformat": 4,
  "nbformat_minor": 0,
  "metadata": {
    "kernelspec": {
      "name": "python3",
      "display_name": "Python 3"
    },
    "colab": {
      "name": "Files_Exeptions.ipynb",
      "provenance": [],
      "include_colab_link": true
    }
  },
  "cells": [
    {
      "cell_type": "markdown",
      "metadata": {
        "id": "view-in-github",
        "colab_type": "text"
      },
      "source": [
        "<a href=\"https://colab.research.google.com/github/albert0120/Practica_03/blob/master/Files_Exeptions.ipynb\" target=\"_parent\"><img src=\"https://colab.research.google.com/assets/colab-badge.svg\" alt=\"Open In Colab\"/></a>"
      ]
    },
    {
      "cell_type": "markdown",
      "metadata": {
        "id": "NHq6R5g9iulH",
        "colab_type": "text"
      },
      "source": [
        "# Archivos y Excepciones\n",
        "En este *notebook* aprenderás a trabajar con archivos para poder analizar datos de manera autmática. También aprenderás a manejar errores para que los programas que se realicen no interrumpan su ejecución o que puedas establecer condiciones y acciones en vez de que simplemente se congele bajo circunstancias extraordinarias o fuera de las condiciones de diseño.\n",
        "\n",
        "Aprenderás el manejo de excepciones, que son objetos especiales de Python  para poder trabajar y manejar los errores mientras el programa está corriendo. También aprenderás a utilizar el módulo `json` , que permite guardar la información de usuario para que ésta no se pierda una vez que el programa ha finalizado la ejecución. \n",
        "\n",
        "Es de gran importancia aprender a manejar los errores ya que brinda mayor seguridad y robustez y confianza tanto para el usuario como para el programador. \n",
        "\n",
        "## Leyendo un archivo\n",
        "Existe una gran cantidad de datos en archivos de texto. Estos archivos de texto pueden contener información del clima, tráfico de información, datos socioeconómicos,etc. Poder leer información de los archivos brinda una gran apertura para poder procesar la información de manera más clara, esto es muy útil para ramas como *data analysis*, minería de datos, ciencias de datos, etc. \n",
        "\n",
        "Para poder hacer esto, lo primero que hay que hay que hacer es tener el archivo almacenado en la memoria de la computadora. Hay dos enfoques para la lectura de los archivos, en el primer enfoque se lee todo el archivo completo y después se pasa a la etapa de procesamiento y el segundo enfoque es ir leyendo el archivo conforme se va procesando. \n",
        "\n",
        "### Leyendo el archivo entero\n",
        "Como ejemplo se propone leer el valor de $\\pi$ que está guardado en un archivo cuya extensión es `.txt`, el archivo debe de contener lo siguiente"
      ]
    },
    {
      "cell_type": "markdown",
      "metadata": {
        "id": "-m6CCulHiulL",
        "colab_type": "raw"
      },
      "source": [
        "3.1415926535\n",
        "  8979323846\n",
        "  2643383279"
      ]
    },
    {
      "cell_type": "markdown",
      "metadata": {
        "id": "MRxwwEJXiulO",
        "colab_type": "text"
      },
      "source": [
        "A continuación se muestra una celda en la que se podrá leer el archivo `pi_digits.txt`"
      ]
    },
    {
      "cell_type": "code",
      "metadata": {
        "id": "MgA48PuNiulR",
        "colab_type": "code",
        "colab": {}
      },
      "source": [
        "with open('pi_digits.txt') as miArchivo:\n",
        "    contents = miArchivo.read()\n",
        "    print(contents)"
      ],
      "execution_count": null,
      "outputs": []
    },
    {
      "cell_type": "markdown",
      "metadata": {
        "id": "UuVumEnmiulh",
        "colab_type": "text"
      },
      "source": [
        "Para poder trabajar en algún archivo, lo primero que se tiene que hacer es *abrirlo* para poder tener acceso a él, para esto utilizamos la función `open()` que necesita un argumento: el nombre del archivo que se desea abrir. Python revisa si el archivo que se quiere abrir se encuentra en el mismo directorio donde se encuentra ejecutando el programa, si es así, no hay problema y lo abre para que el programador pueda ingresar al archivo, de lo contrario hay que especificar la ruta de acceso.\n",
        "\n",
        "La función `open()` regresa un objeto que representa el archivo, entonces `open('pi_digits.txt')` regresa un objeto que repesenta  a `pi_didits.txt`. En este caso el objeto es `miArchivo`. \n",
        "\n",
        "\n",
        "Una vez que ese tien el objeto `miArchivo` que representa a `pi_digits.txt`, se utiliza el método `read()`para poder leer el contido del archivo y almacenarlo en el *string*  `contents`."
      ]
    },
    {
      "cell_type": "markdown",
      "metadata": {
        "id": "vWDLZ2AWiulk",
        "colab_type": "text"
      },
      "source": [
        "### Rutas de acceso de un archivo\n",
        "\n",
        "Dependiendo de la organización del proyecto, quizás, el archivo que se quiera leer está en otra carpeta o directorio distinto al que se encuentra el programa de Python, si esto es así, y queremos tener acceso al archivo desde el programa de Python, es necesario que especifique la ruta de acceso.\n",
        "\n",
        "En este caso en específico se muestra una imagen con la organización del proyecto, observe que hay una carpeta que se llama `ArchivosExternos` y dentro de ésta está el archivo `Mexico.txt`, para poder ingresar a este archivo la ruta de acceso sería  `ArchivosExternos/Mexico.txt`. En la siguiente celda se muestra el programa para poder tener acceso a este archivo"
      ]
    },
    {
      "cell_type": "code",
      "metadata": {
        "id": "Cue9q6LTiulm",
        "colab_type": "code",
        "colab": {}
      },
      "source": [
        "with open('ArchivosExternos/Mexico.txt') as miArchivo:\n",
        "    contents = miArchivo.read()\n",
        "    print(contents)"
      ],
      "execution_count": null,
      "outputs": []
    },
    {
      "cell_type": "markdown",
      "metadata": {
        "id": "-ZTrJWEuiulz",
        "colab_type": "text"
      },
      "source": [
        "Es necesario tener cuidado que tengas en mente que dentro de linux y ios la dvisión entre carpetas está dada por `/`, mientras que para windows `\\`.\n",
        "\n",
        "En algunas ocasiones windeows puede reconocer el símbolo `/` y no marcar error pero no siempre lo reconoce. \n"
      ]
    },
    {
      "cell_type": "markdown",
      "metadata": {
        "id": "fKbwY1ariul1",
        "colab_type": "text"
      },
      "source": [
        "## Leyendo línea por línea\n",
        "\n",
        "Cuando se está leyendo un archivo, usualemente se desea analizar el archivo línea por línea. Seguramente se está buscando información específica o se quiere modificar información muy puntual. Como ejemplo suponga que encuentra un archivo que tiene información del tiempo y usted está buscando la palabra `nublado` para poder emtir las precauciones. En la siguiente sección se muestra una posibilidad para solucionar este problema. \n"
      ]
    },
    {
      "cell_type": "code",
      "metadata": {
        "id": "7y5nEjG8iul3",
        "colab_type": "code",
        "colab": {}
      },
      "source": [
        "with open('ArchivosExternos/Familia.txt') as miArchivo:\n",
        "    for line in miArchivo:\n",
        "        print(line)\n",
        "        print('---------------')"
      ],
      "execution_count": null,
      "outputs": []
    },
    {
      "cell_type": "markdown",
      "metadata": {
        "id": "vSU29hdJiumD",
        "colab_type": "text"
      },
      "source": [
        "El archivo `Familia.txt` contiene información de las personas y mascotas que conforman una familia, observe que dentro del ciclo `for` se está ingresando a cada línea, la segunda instrucción del ciclo `for` es una serie de líneas para poder separar el texto y que se pudiera observar la lectura de línea por línea. "
      ]
    },
    {
      "cell_type": "markdown",
      "metadata": {
        "id": "ctSOGflLiumG",
        "colab_type": "text"
      },
      "source": [
        "## Haciendo una línea de los renglones de un archivo\n",
        "\n",
        "Cuando se utiliza `with`, el objeto que regresa `open()` está disponible solamente dentro del bloque. Si se desea utilizar el texto fuera de este bloque de códgio es necesario almacenar las líneas del código en algún contenedor apropiado para su uso, en este caso se utilizará una lista, en donde cada elemento de la lista guardará un renglón del texto original \n"
      ]
    },
    {
      "cell_type": "code",
      "metadata": {
        "id": "WnpFaMmKiumI",
        "colab_type": "code",
        "colab": {}
      },
      "source": [
        "archivo = 'ArchivosExternos/Familia.txt'\n",
        "\n",
        "with open(archivo) as Familia:\n",
        "    #lines es una lista y se le asigna cada renglón\n",
        "    # del archivo Familia.txt\n",
        "    # Estamos dentro de with\n",
        "    lines = Familia.readlines()\n",
        "    # Saliendo de with\n",
        "    \n",
        "    \n",
        "#Estamos fuera de with y aun se tiene acceso al texto de manera indirecta\n",
        "for line in lines:\n",
        "    print(line.rstrip())"
      ],
      "execution_count": null,
      "outputs": []
    },
    {
      "cell_type": "markdown",
      "metadata": {
        "id": "Pfqq2FtviumT",
        "colab_type": "text"
      },
      "source": [
        "## Trabajando con el contenido del archivo\n",
        "\n",
        "Una vez que ya es capaz de leer archivos y dejarlos disponibles en la memeria, ya se pueden comenzar algunas tareas de procesamiento de los archivos. \n",
        "\n",
        "### Mostrando todos los elmentos del archivo en un sólo renglón\n",
        "Una de las tareas que spueden ser más requeridas es juntar los renglones del texto. En muchas ramas de la ingeniería se requiere trabajar con números muy grandes (en cifras significativas) como puede ser el valor de $\\pi$ o $e$ que pueden venir separados en varias líneas como se muestra en la siguiente celda\n"
      ]
    },
    {
      "cell_type": "markdown",
      "metadata": {
        "id": "_ECaWvNoiumW",
        "colab_type": "raw"
      },
      "source": [
        "2.7182818284590\n",
        "452353602874713\n",
        "527481656523545"
      ]
    },
    {
      "cell_type": "markdown",
      "metadata": {
        "id": "Tucqrl4xiumY",
        "colab_type": "text"
      },
      "source": [
        "El objetivo de la siguiente celda es leer el archivo `e.txt` guardar los renglones en una lista y después juntar los renglones en un solo renglón para después onvertirlo a un dato numérico y poder utilizarlo en los cálculos"
      ]
    },
    {
      "cell_type": "code",
      "metadata": {
        "id": "FedwM3Tiiuma",
        "colab_type": "code",
        "colab": {}
      },
      "source": [
        "archivo = 'ArchivosExternos/e.txt'\n",
        "\n",
        "with open(archivo) as e:\n",
        "    lines = e.readlines()\n",
        "\n",
        "renglon = ''\n",
        "    \n",
        "    \n",
        "for line in lines:\n",
        "    renglon += line.rstrip()\n",
        "    \n",
        "print(renglon)\n",
        "print(len(renglon))\n",
        "    "
      ],
      "execution_count": null,
      "outputs": []
    },
    {
      "cell_type": "markdown",
      "metadata": {
        "id": "ZNezmDlgiumn",
        "colab_type": "text"
      },
      "source": [
        "### Otra tarea de gran importancia sería buscar información específica dentro del archivo.\n",
        "\n",
        "Para esto se ha descargado una archivo de texto plano que contiene varios nombres, la idea es poder abrir el archivo, generar una lista con todos los nombres aparecen en el texto, después buscar un nombre en específico, el programa deberá indicar si el nombre está entre la lista y su posición en la lista. \n"
      ]
    },
    {
      "cell_type": "code",
      "metadata": {
        "id": "xfiY6bCbiump",
        "colab_type": "code",
        "colab": {},
        "outputId": "ea7624df-5ebb-4ca4-83d1-6ceaeff39fa3"
      },
      "source": [
        "archivo = 'ArchivosExternos/nombres-propios-es.txt'\n",
        "\n",
        "with open(archivo) as Nombres:\n",
        "    lines = Nombres.readlines()\n",
        "    \n",
        "#print(len(lines))\n",
        "\n",
        "name = input(\"Introduzca el nombre a buscar: \");\n",
        "name_buscar = name + '\\n'\n",
        "found = False\n",
        "\n",
        "for i in range(len(lines)):\n",
        "    if name_buscar == lines[i]:\n",
        "        print(\"El nombre: \" + name + \" se encontró en la posición: \" + str(i))\n",
        "        found = True\n",
        "        break;\n",
        "\n",
        "if not found:\n",
        "    print(\"El nombre no se encuentra en la lista\")\n",
        "        \n",
        "        "
      ],
      "execution_count": null,
      "outputs": [
        {
          "output_type": "stream",
          "text": [
            "Introduzca el nombre a buscar: sdf\n",
            "El nombre no se encuentra en la lista\n"
          ],
          "name": "stdout"
        }
      ]
    },
    {
      "cell_type": "markdown",
      "metadata": {
        "id": "C3lFQswUium5",
        "colab_type": "text"
      },
      "source": [
        "En la celda se puede observar la forma en que se hace la búsqueda de forma primitiva, con `input()` se le pide al usuario que introduzca un nombre para la búsqueda, la variable `name_buscar` contiene el nombre con el cambio de línea ya que así están guardados los nombres en la lista. En el ciclo `for` se extiende la búsqueda a lo largo de toda la lista de nombres, si el nombre ha sido encontrado se indica y se muestra la posición en la que está.\n",
        "\n",
        "Una vez que se ha recorrido toda la lista de nombres y no se ha encontrado el nombre imprime que no se ha encontrado el nombre en la lista. \n"
      ]
    },
    {
      "cell_type": "markdown",
      "metadata": {
        "id": "jVGNMrwEium6",
        "colab_type": "text"
      },
      "source": [
        "## Ejercicios\n",
        "\n",
        "En la carpeta de `ArchivosExternos` se encuentra un archivo `apellidos-es.txt`, abrir y leer el archivo, pedir al usuario un nombre y un apellido, el programa debe de buscar en la lista de nombres si el nombre se encuentra, tambiénd debe de hacer lo mismo con los apellidos, sólo si se localizan el nombre y apellido, la búsqueda será exitosa y deberá mostrar la posición del nombre y la posición del apellido."
      ]
    },
    {
      "cell_type": "code",
      "metadata": {
        "id": "ATSz6b9wmULz",
        "colab_type": "code",
        "colab": {}
      },
      "source": [
        "ap='apellidos-es.txt'\n",
        "nom='nombres-propios-es.txt'\n",
        "with open(ap) as Ape:\n",
        "    lines = Ape.readlines()\n",
        "\n",
        "surname= input(\"Introduce el apellido a buscar: \")\n",
        "surname_search=surname.title() + '\\n'\n",
        "found = False\n",
        "\n",
        "for i in range(len(lines)):\n",
        "    if surname_search == lines[i]:\n",
        "        print(\"El apellido: \" + surname + \" se encontró en la posición: \" + str(i))\n",
        "        found = True\n",
        "        break;\n",
        "\n",
        "if not found:\n",
        "    print(\"El nombre no se encuentra en la lista\")\n",
        "\n",
        "with open (nom) as Nam:\n",
        "    lines= Nam.readlines()\n",
        "names=input(\"Introduce el nombre a buscar: \")\n",
        "names_search=names.title() +'\\n'\n",
        "found = False\n",
        "    \n",
        "for i in range(len(lines)):\n",
        "    if names_search == lines[i]:\n",
        "        print(\"El nombre: \" + names + \" se encontró en la posición: \" + str(i))\n",
        "        found = True\n",
        "        break;\n",
        "\n",
        "if not found:\n",
        "    print(\"El nombre no se encuentra en la lista\")\n"
      ],
      "execution_count": null,
      "outputs": []
    },
    {
      "cell_type": "markdown",
      "metadata": {
        "id": "T_z4Ydf1ium9",
        "colab_type": "text"
      },
      "source": [
        "## Escribiendo en un archivo\n",
        "\n",
        "Una de las maneras más simples y prácticas para poder guardar datos es escribiéndolas en un archivo. Cuando se escribe texto en un archivo, la salids del programa estará disponible para futuros procesamientos o análisis de la información, incluso cuando el programa haya terminado la ejecución. El archivo con la nueva información se puede compartir  o incluso se pueden hacer programas que utilicen el archivo con la información para graficar o hacer cualquier otra acción .\n",
        "\n",
        "### Escribiendo en un archivo vacío.\n",
        "Para escribir texto en un archivo, primeroo se necesita `abrir` el archivo con la palabra el atributo `open()`agregando un segundo argument que le india a Python que se requiere escribir en elprogrma abierto, tal como se muestra enla siguiente celda"
      ]
    },
    {
      "cell_type": "code",
      "metadata": {
        "id": "fYKhwkTgium_",
        "colab_type": "code",
        "colab": {}
      },
      "source": [
        "miArchivo = 'ArchivosExternos/Programando_01.txt'\n",
        "with open( miArchivo,'w') as objArchivo:\n",
        "    objArchivo.write(\"Me encanta programar\")"
      ],
      "execution_count": null,
      "outputs": []
    },
    {
      "cell_type": "markdown",
      "metadata": {
        "id": "pW83O3jciunJ",
        "colab_type": "text"
      },
      "source": [
        "En la celda anterior el atributo `open()` recibe dos argumentos, el primero es la dirección donde está o se desea que esté el archivo en el cual se quiere agregar texto, el segundo argumento es `w` que proviene del vocablo `write` y le da permiso al programa para poder escribir el objeto resultante es `objArchivo`.\n",
        "\n",
        "dentro de `with()` se está escribiendo utilizando el nombre del objeto que almacena el archivo, que en este caso es `objArchivo` y se invoca al método `write`, este método recibe como argumento el texto o string que se desea guardar en el archivo. \n",
        "\n",
        "\n",
        "Además de `w`, existen otros permisos que se le pueden dar al objeto del arhivo, se muestran en la siguiente tabla\n",
        "\n",
        "| Modo | Descripción                                                  |\n",
        "|------|--------------------------------------------------------------|\n",
        "|  r   | Abre un archivo sólo para lectura, es el modo predeterminado |\n",
        "| rb   | Abre un archivo sólo para lectura en formato binario         |\n",
        "| r+   | Abre un archivo para lectura y escritura                     |\n",
        "| rb+  | Abre un archivo para lectura y escritura en formato binario  |\n",
        "| w    | Abre un archivo para escritura                               |\n",
        "| wb   | Abre un archivo para escritura en formato binario            |\n",
        "| w+   | Abre un archivo para lectura y escritura                     |\n",
        "| wb+  | Abre un archivo para lectura y escritura en formato binario  |\n",
        "\n",
        "\n",
        "La función `open()` genera el archivo que se le haya demandado en caso de no existir, es necesario proporcionar la dirección donde se requiere ubicar el archivo, de lo contrario lo guardará en la misma carpeta donde se está ejecutando el programa.\n",
        "\n",
        "Es necesario tener cuidado cuando se abre un archivo y se le da el modo de `escritura(w)`ya que si no existe el archivo, se creará, y si existe se sobreescribirá perdiendo la infomación que se tenía previamente. \n",
        "\n",
        "La celda anterior no tiene salida en la terminal, sin embargo, si revisa la carpeta de `ArchivosExternos` encontrará el archivo `Programando_01.txt` que contiene el texto `Me encanta programar`, este archivo sepuede tratar como cualquier otro archivo de la computadora, se puede copiar, pegar, compartir, etc. \n",
        "\n",
        "Python sólo puede escribir texto, si usted quiere guardar algún otro dato, como un número, es necesario convertir el número a texto antes de escribirlo en el texto, esto se hace con la función `str(numero)`\n",
        "\n",
        "\n",
        "### Escribiendo múltiples líneas\n",
        "\n",
        "La función `write()` no agrega líneas en el texto que se manda a plasmar. Supongamos que se quieren agregar dos ideas en el texto lo más común sería agregarlo como se muestra en la siguiente celda\n"
      ]
    },
    {
      "cell_type": "code",
      "metadata": {
        "id": "EAEI8g57iunL",
        "colab_type": "code",
        "colab": {}
      },
      "source": [
        "miArchivo = 'ArchivosExternos/Programando_01.txt'\n",
        "with open( miArchivo,'w') as objArchivo:\n",
        "    objArchivo.write(\"Me encanta programar\")\n",
        "    objArchivo.write(\"Estoy aprendiendo Python\")"
      ],
      "execution_count": null,
      "outputs": []
    },
    {
      "cell_type": "markdown",
      "metadata": {
        "id": "sEriTiNAiuna",
        "colab_type": "text"
      },
      "source": [
        "De nuevo, el programa no tiene salida directa en la terminal, sin embargo, si se revisa el archivo `Programando_01.txt` que se encuentra en la carpeta `ArchivosExternos` contiene el siguiente texto\n",
        "\n",
        "\n",
        "`Me encanta programarEstoy aprendiendo Python`\n",
        "\n",
        "\n",
        "Como se observa no ha habido un cambio de línea, si se requiere hacer el cambio de línea se debe de poner de manera explícita tal como se muestra en la siguiente celda"
      ]
    },
    {
      "cell_type": "code",
      "metadata": {
        "id": "C8OjsBOKiunc",
        "colab_type": "code",
        "colab": {}
      },
      "source": [
        "miArchivo = 'ArchivosExternos/Programando_01.txt'\n",
        "with open( miArchivo,'w') as objArchivo:\n",
        "    objArchivo.write(\"Me encanta programar\\n\")\n",
        "    objArchivo.write(\"Estoy aprendiendo Python\")"
      ],
      "execution_count": null,
      "outputs": []
    },
    {
      "cell_type": "markdown",
      "metadata": {
        "id": "HpquzagEiunn",
        "colab_type": "text"
      },
      "source": [
        "El programa no muestra salida, pero los cambios en el archivo se ven de la siguiente manera \n",
        "\n",
        "\n",
        "\n",
        "`Me encanta programar\n",
        "Estoy aprendiendo Python`"
      ]
    },
    {
      "cell_type": "markdown",
      "metadata": {
        "id": "et_jjJrciunp",
        "colab_type": "text"
      },
      "source": [
        "De la misma manera en que se han agregado el cambio de línea se pueden agregar espacios y tabuladores, setiene que hacer de manera explicita"
      ]
    },
    {
      "cell_type": "markdown",
      "metadata": {
        "id": "knu8xybXiunr",
        "colab_type": "text"
      },
      "source": [
        "### Modificando un archivo\n",
        "\n",
        "Si desea agregar contenido a un archivo en vez de sobreescribir el contenido actual , se puede abrir el archivo en modo *apéndice*. Cuando se abre un archivo en modo de apéndice Python no borra el archivo ni sobreescribe el contenido. Cualquier línea que se agregue se pondrá al ginal de la última línea del archivo. Si el archivo no existe, Python creará un archivo nuevo.\n",
        "\n",
        "Como ejemplo se tiene un archivo que tiene el siguiente texto"
      ]
    },
    {
      "cell_type": "markdown",
      "metadata": {
        "id": "zAUXPxSfiunu",
        "colab_type": "raw"
      },
      "source": [
        "Me gusta comer:\n",
        "Pozole, \n",
        "Enchiladas,\n",
        "Tamales,"
      ]
    },
    {
      "cell_type": "markdown",
      "metadata": {
        "id": "PHbxhDrhiuny",
        "colab_type": "text"
      },
      "source": [
        "Se quiere agregar al presente texto, `Tacos, Quesadilla` y `Birria`, para hacer esto, se requiere abrir el archivo en modo apéndice y agregar el texto como se muestra en la siguiente celda"
      ]
    },
    {
      "cell_type": "code",
      "metadata": {
        "id": "Ld-MaCs2iun0",
        "colab_type": "code",
        "colab": {}
      },
      "source": [
        "miArchivo = 'ArchivosExternos/comida.txt'\n",
        "with open( miArchivo,'a') as objArchivo:\n",
        "    objArchivo.write('Tacos,\\n')\n",
        "    objArchivo.write('Quesadillas,\\n')\n",
        "    objArchivo.write('Birria,\\n')\n"
      ],
      "execution_count": null,
      "outputs": []
    },
    {
      "cell_type": "markdown",
      "metadata": {
        "id": "ID-IzkgOiun9",
        "colab_type": "text"
      },
      "source": [
        "La salida del archivo se debería de ver como se muestra a continuación "
      ]
    },
    {
      "cell_type": "markdown",
      "metadata": {
        "id": "IkAgd105iuoA",
        "colab_type": "raw"
      },
      "source": [
        "Me gusta comer:\n",
        "Pozole, \n",
        "Enchiladas,\n",
        "Tamales,Tacos,\n",
        "Quesadillas,\n",
        "Birria,\n"
      ]
    },
    {
      "cell_type": "markdown",
      "metadata": {
        "id": "vilnvLvWiuoD",
        "colab_type": "text"
      },
      "source": [
        "## Ejercicios\n",
        "\n",
        "1. Cree un programa que se le pida a un usuario su nombre y boleta, guádelo en un archivo llamado `usuarios.txt`\n",
        "2. Genere un programa que lea 15 usuarios con sus 15 boletas, los datos del usuario y boletas, se deben de agregar al archivo `usuarios.txt`.\n",
        "3. Genere un programa que una vez que haya leído los 15 usuarios debe de revisar que no haya nombres y boletas repetidas, en caso de ser así, se deben de borrar de la lista  y los nombres y boletas resultantes deben de guardarse en un archivo `usuarios_filtrados.txt`"
      ]
    },
    {
      "cell_type": "code",
      "metadata": {
        "id": "c20-7rGDmo7F",
        "colab_type": "code",
        "colab": {
          "base_uri": "https://localhost:8080/",
          "height": 51
        },
        "outputId": "03f832e9-d914-4c83-fbc2-9222869b6d6e"
      },
      "source": [
        "docu= 'usuarios.txt'\n",
        "with open (docu,'a') as regis:\n",
        "  \n",
        "  regis.write(input(\"Ingresa tu nombre completo:  \"))\n",
        "  regis.write(\"--\")\n",
        "  regis.write(input(\"Ingresa tu número de boleta: \"))\n",
        "  regis.write('\\n')"
      ],
      "execution_count": 32,
      "outputs": [
        {
          "output_type": "stream",
          "text": [
            "Ingresa tu nombre completo:  Valentin Max Nito\n",
            "Ingresa tu número de boleta: 852369\n"
          ],
          "name": "stdout"
        }
      ]
    },
    {
      "cell_type": "code",
      "metadata": {
        "id": "7Bm3Qj3HnBgK",
        "colab_type": "code",
        "colab": {
          "base_uri": "https://localhost:8080/",
          "height": 289
        },
        "outputId": "01f33eef-de74-46b8-b76c-830699efecd3"
      },
      "source": [
        "docu='usuarios.txt'\n",
        "with open (docu) as regis:\n",
        "  a=regis.read()\n",
        "  print(a)"
      ],
      "execution_count": 33,
      "outputs": [
        {
          "output_type": "stream",
          "text": [
            "Luis Alberto Ambrosio Rodriguez--2020301917\n",
            "Liliana Amborosio Rodriguez--54865415\n",
            "Cesar Eduardo Lopez Ambrosio--1547476168\n",
            "Diana Ambrosio Rodriguez--78946513\n",
            "Luis Alberto Ambrosio Rodriguez--2020301917\n",
            "Liliana Ambrosio Rodriguez--54865415\n",
            "Cesar Eduardo Lopez Ambrosio--1547476168\n",
            "Diana Ambrosio Rodriguez--78946513\n",
            "Maria del Carmen Rodriguez--789456123\n",
            "Maria del Carmen Rodriguez --789456123\n",
            "Mario Aldo Lopez Ambrosio--123456789\n",
            "Mario Aldo Lopez Ambrosio--123456789\n",
            "Dylan Amauri Lizardi--456123\n",
            "Dylan Amauri Lizardi--456123\n",
            "Valentin Max Nito--852369\n",
            "\n"
          ],
          "name": "stdout"
        }
      ]
    },
    {
      "cell_type": "code",
      "metadata": {
        "id": "20JeSHgeqwU7",
        "colab_type": "code",
        "colab": {}
      },
      "source": [
        "docu='usuarios.txt'\n",
        "f='usuarios_filtrados.txt'\n",
        "\n",
        "with open (docu,'r+') as regis:\n",
        "  lines=list(regis.readlines())\n",
        "\n",
        "with open (f,'r+') as new:\n",
        "  doc=list(new.readlines())\n",
        "\n",
        "\n",
        "for line in lines:\n",
        "  if line not in doc:\n",
        "    doc.append(line)\n",
        "\n",
        "print(doc)"
      ],
      "execution_count": null,
      "outputs": []
    },
    {
      "cell_type": "markdown",
      "metadata": {
        "id": "xrL4gloWiuoF",
        "colab_type": "text"
      },
      "source": [
        "## Excepciones\n",
        "\n",
        "Python utiliza excepciones para poder actuar ante los errores que puedan ocurrir durante la ejecución del programa. Usualmente cuando se genere un error en la ejecución Python simplemente interrumpe el programa y sale de el, perdiendo toda la información y estado del procesamiento, esto no es bueno ya que hace que el programa no sea robusto, las excepciones ayudan a evitar estas cuestiones, no evitan los errores pero si permiten que el programa siga la ejecución o que por lo menos termine el programa de la mejor manera posible.\n",
        "\n",
        "Para las execpciones se utilizan bloques conocidos como `try-except`. Estas instrucciones le indican a Python que hacer cuando una excepción (error tolerable) se ha generado. \n",
        "\n",
        "\n",
        "### Manejando excepciones - División entre cero\n",
        "En el área de las matemáticas la división entre cero no está definida, en el área de computación si se pide al ordenador que haga una división entre cero marcara'un errror y el program simplemente dejará de trabjar (en el mejor de los casos). Trate correr la siguiente celda para que pueda experimentar el error "
      ]
    },
    {
      "cell_type": "code",
      "metadata": {
        "id": "OxuzWoZTiuoH",
        "colab_type": "code",
        "colab": {},
        "outputId": "4ec529b4-467d-43bf-8d0c-0f9ff8cbcef6"
      },
      "source": [
        "print(5/0)"
      ],
      "execution_count": null,
      "outputs": [
        {
          "output_type": "error",
          "ename": "ZeroDivisionError",
          "evalue": "division by zero",
          "traceback": [
            "\u001b[0;31m---------------------------------------------------------------------------\u001b[0m",
            "\u001b[0;31mZeroDivisionError\u001b[0m                         Traceback (most recent call last)",
            "\u001b[0;32m<ipython-input-15-fad870a50e27>\u001b[0m in \u001b[0;36m<module>\u001b[0;34m\u001b[0m\n\u001b[0;32m----> 1\u001b[0;31m \u001b[0mprint\u001b[0m\u001b[0;34m(\u001b[0m\u001b[0;36m5\u001b[0m\u001b[0;34m/\u001b[0m\u001b[0;36m0\u001b[0m\u001b[0;34m)\u001b[0m\u001b[0;34m\u001b[0m\u001b[0;34m\u001b[0m\u001b[0m\n\u001b[0m",
            "\u001b[0;31mZeroDivisionError\u001b[0m: division by zero"
          ]
        }
      ]
    },
    {
      "cell_type": "markdown",
      "metadata": {
        "id": "2-e1UMzviuoS",
        "colab_type": "text"
      },
      "source": [
        "Observó que si trató de correr el programa marca un error ya que la división entre cero no está definida, y el programa no se ejecuta o la ejecución es incompleta, en este caso se puede agregar una excepción y que simplemente indique que se ha generado un error. El uso de la excepción para este caso se muestra en la siguiente celda"
      ]
    },
    {
      "cell_type": "code",
      "metadata": {
        "id": "-Y__ij5EiuoU",
        "colab_type": "code",
        "colab": {},
        "outputId": "2ad40396-533b-47e8-f2b7-3264338f52d0"
      },
      "source": [
        "try:\n",
        "    print(5/0)\n",
        "except ZeroDivisionError:\n",
        "    print(\"No puedes dividir entre cero\")"
      ],
      "execution_count": null,
      "outputs": [
        {
          "output_type": "stream",
          "text": [
            "No puedes dividir entre cero\n"
          ],
          "name": "stdout"
        }
      ]
    },
    {
      "cell_type": "markdown",
      "metadata": {
        "id": "Q4qI17eeiuoh",
        "colab_type": "text"
      },
      "source": [
        "Observe que se debe de poner `try:` y después la acción que se conidera puede generar un error, después de debe de poner`except`y después el tipo de error que Python genera cuando se comete alguna acción similar, en este caso es `ZeroDivisionError` y seguido se ponde laación que se quiere realizar en caso de que se llegue a  generar el error. "
      ]
    },
    {
      "cell_type": "markdown",
      "metadata": {
        "id": "x9Pqzmd-iuok",
        "colab_type": "text"
      },
      "source": [
        "### Excepciones para evitar salidas bruscas del programa \n",
        "\n",
        "Manejar los errores de manera correcta toma gran importancia cuando se tienen que hacer más operaciones o ejecutar más instrucciones después de que el error ocure. Esto es muyfreucneteen programas donde se le ipide información al usuario através del teclado y éste por error o para probar la robustez del programa introduce datos pra los que el programa no fue diseñado. Un ejemplo simple y sencillo donde se puede verficiar este comportamiento es en la siguiente celda.\n"
      ]
    },
    {
      "cell_type": "code",
      "metadata": {
        "id": "9F2P3ePgiuom",
        "colab_type": "code",
        "colab": {},
        "outputId": "6e4c7fb3-eb9d-4fcb-f670-7be70d508777"
      },
      "source": [
        "print(\"Introduce dos números para generar la división: \")\n",
        "print(\"Enter 'q' para salir: \")\n",
        "\n",
        "while True:\n",
        "    first_number = input('\\nFrist number: ')\n",
        "    if first_number == 'q':\n",
        "        break\n",
        "    second_number = input(\"Second number: \")\n",
        "    if second_number == 'q':\n",
        "        break\n",
        "    \n",
        "    answer = int(first_number)/int(second_number)\n",
        "    print(answer)"
      ],
      "execution_count": null,
      "outputs": [
        {
          "output_type": "stream",
          "text": [
            "Introduce dos números para generar la división: \n",
            "Enter 'q' para salir: \n",
            "\n",
            "Frist number: q\n"
          ],
          "name": "stdout"
        }
      ]
    },
    {
      "cell_type": "markdown",
      "metadata": {
        "id": "36NRhOPXiuov",
        "colab_type": "text"
      },
      "source": [
        "En el programa anterior se muestra el ejemplo de la calculadroa en el que se le piden al ususario dos números, para poder hacer la división, pero en ningún instante se verifica si la división se pude llevar a cabo. Una versión más robusta del program sería la que se muestra a continuación."
      ]
    },
    {
      "cell_type": "code",
      "metadata": {
        "id": "8w21gZBBiuoz",
        "colab_type": "code",
        "colab": {},
        "outputId": "470b59bc-7942-45ae-ebc8-2127e02b4eb3"
      },
      "source": [
        "print(\"Introduce dos números para generar la división: \")\n",
        "print(\"Enter 'q' para salir: \")\n",
        "\n",
        "while True:\n",
        "    first_number = input('\\nFrist number: ')\n",
        "    if first_number == 'q':\n",
        "        break\n",
        "    second_number = input(\"Second number: \")\n",
        "    if second_number == 'q':\n",
        "        break\n",
        "    \n",
        "    try:\n",
        "        answer = int(first_number) / int(second_number)\n",
        "    except ZeroDivisionError:\n",
        "        print(\"No se puede dividir entre cero\")\n",
        "    else:\n",
        "        print(answer);"
      ],
      "execution_count": null,
      "outputs": [
        {
          "output_type": "stream",
          "text": [
            "Introduce dos números para generar la división: \n",
            "Enter 'q' para salir: \n",
            "\n",
            "Frist number: 5\n",
            "Second number: 0\n",
            "No se puede dividir entre cero\n",
            "\n",
            "Frist number: 5\n",
            "Second number: 9\n",
            "0.5555555555555556\n",
            "\n",
            "Frist number: 5\n",
            "Second number: 4\n",
            "1.25\n"
          ],
          "name": "stdout"
        },
        {
          "output_type": "error",
          "ename": "KeyboardInterrupt",
          "evalue": "",
          "traceback": [
            "\u001b[0;31m---------------------------------------------------------------------------\u001b[0m",
            "\u001b[0;31mKeyboardInterrupt\u001b[0m                         Traceback (most recent call last)",
            "\u001b[0;32m~/miniconda3/lib/python3.7/site-packages/ipykernel/kernelbase.py\u001b[0m in \u001b[0;36m_input_request\u001b[0;34m(self, prompt, ident, parent, password)\u001b[0m\n\u001b[1;32m    883\u001b[0m             \u001b[0;32mtry\u001b[0m\u001b[0;34m:\u001b[0m\u001b[0;34m\u001b[0m\u001b[0;34m\u001b[0m\u001b[0m\n\u001b[0;32m--> 884\u001b[0;31m                 \u001b[0mident\u001b[0m\u001b[0;34m,\u001b[0m \u001b[0mreply\u001b[0m \u001b[0;34m=\u001b[0m \u001b[0mself\u001b[0m\u001b[0;34m.\u001b[0m\u001b[0msession\u001b[0m\u001b[0;34m.\u001b[0m\u001b[0mrecv\u001b[0m\u001b[0;34m(\u001b[0m\u001b[0mself\u001b[0m\u001b[0;34m.\u001b[0m\u001b[0mstdin_socket\u001b[0m\u001b[0;34m,\u001b[0m \u001b[0;36m0\u001b[0m\u001b[0;34m)\u001b[0m\u001b[0;34m\u001b[0m\u001b[0;34m\u001b[0m\u001b[0m\n\u001b[0m\u001b[1;32m    885\u001b[0m             \u001b[0;32mexcept\u001b[0m \u001b[0mException\u001b[0m\u001b[0;34m:\u001b[0m\u001b[0;34m\u001b[0m\u001b[0;34m\u001b[0m\u001b[0m\n",
            "\u001b[0;32m~/miniconda3/lib/python3.7/site-packages/jupyter_client/session.py\u001b[0m in \u001b[0;36mrecv\u001b[0;34m(self, socket, mode, content, copy)\u001b[0m\n\u001b[1;32m    812\u001b[0m         \u001b[0;32mtry\u001b[0m\u001b[0;34m:\u001b[0m\u001b[0;34m\u001b[0m\u001b[0;34m\u001b[0m\u001b[0m\n\u001b[0;32m--> 813\u001b[0;31m             \u001b[0mmsg_list\u001b[0m \u001b[0;34m=\u001b[0m \u001b[0msocket\u001b[0m\u001b[0;34m.\u001b[0m\u001b[0mrecv_multipart\u001b[0m\u001b[0;34m(\u001b[0m\u001b[0mmode\u001b[0m\u001b[0;34m,\u001b[0m \u001b[0mcopy\u001b[0m\u001b[0;34m=\u001b[0m\u001b[0mcopy\u001b[0m\u001b[0;34m)\u001b[0m\u001b[0;34m\u001b[0m\u001b[0;34m\u001b[0m\u001b[0m\n\u001b[0m\u001b[1;32m    814\u001b[0m         \u001b[0;32mexcept\u001b[0m \u001b[0mzmq\u001b[0m\u001b[0;34m.\u001b[0m\u001b[0mZMQError\u001b[0m \u001b[0;32mas\u001b[0m \u001b[0me\u001b[0m\u001b[0;34m:\u001b[0m\u001b[0;34m\u001b[0m\u001b[0;34m\u001b[0m\u001b[0m\n",
            "\u001b[0;32m~/miniconda3/lib/python3.7/site-packages/zmq/sugar/socket.py\u001b[0m in \u001b[0;36mrecv_multipart\u001b[0;34m(self, flags, copy, track)\u001b[0m\n\u001b[1;32m    474\u001b[0m         \"\"\"\n\u001b[0;32m--> 475\u001b[0;31m         \u001b[0mparts\u001b[0m \u001b[0;34m=\u001b[0m \u001b[0;34m[\u001b[0m\u001b[0mself\u001b[0m\u001b[0;34m.\u001b[0m\u001b[0mrecv\u001b[0m\u001b[0;34m(\u001b[0m\u001b[0mflags\u001b[0m\u001b[0;34m,\u001b[0m \u001b[0mcopy\u001b[0m\u001b[0;34m=\u001b[0m\u001b[0mcopy\u001b[0m\u001b[0;34m,\u001b[0m \u001b[0mtrack\u001b[0m\u001b[0;34m=\u001b[0m\u001b[0mtrack\u001b[0m\u001b[0;34m)\u001b[0m\u001b[0;34m]\u001b[0m\u001b[0;34m\u001b[0m\u001b[0;34m\u001b[0m\u001b[0m\n\u001b[0m\u001b[1;32m    476\u001b[0m         \u001b[0;31m# have first part already, only loop while more to receive\u001b[0m\u001b[0;34m\u001b[0m\u001b[0;34m\u001b[0m\u001b[0;34m\u001b[0m\u001b[0m\n",
            "\u001b[0;32mzmq/backend/cython/socket.pyx\u001b[0m in \u001b[0;36mzmq.backend.cython.socket.Socket.recv\u001b[0;34m()\u001b[0m\n",
            "\u001b[0;32mzmq/backend/cython/socket.pyx\u001b[0m in \u001b[0;36mzmq.backend.cython.socket.Socket.recv\u001b[0;34m()\u001b[0m\n",
            "\u001b[0;32mzmq/backend/cython/socket.pyx\u001b[0m in \u001b[0;36mzmq.backend.cython.socket._recv_copy\u001b[0;34m()\u001b[0m\n",
            "\u001b[0;32m~/miniconda3/lib/python3.7/site-packages/zmq/backend/cython/checkrc.pxd\u001b[0m in \u001b[0;36mzmq.backend.cython.checkrc._check_rc\u001b[0;34m()\u001b[0m\n",
            "\u001b[0;31mKeyboardInterrupt\u001b[0m: ",
            "\nDuring handling of the above exception, another exception occurred:\n",
            "\u001b[0;31mKeyboardInterrupt\u001b[0m                         Traceback (most recent call last)",
            "\u001b[0;32m<ipython-input-22-fc10b28f2dd4>\u001b[0m in \u001b[0;36m<module>\u001b[0;34m\u001b[0m\n\u001b[1;32m      3\u001b[0m \u001b[0;34m\u001b[0m\u001b[0m\n\u001b[1;32m      4\u001b[0m \u001b[0;32mwhile\u001b[0m \u001b[0;32mTrue\u001b[0m\u001b[0;34m:\u001b[0m\u001b[0;34m\u001b[0m\u001b[0;34m\u001b[0m\u001b[0m\n\u001b[0;32m----> 5\u001b[0;31m     \u001b[0mfirst_number\u001b[0m \u001b[0;34m=\u001b[0m \u001b[0minput\u001b[0m\u001b[0;34m(\u001b[0m\u001b[0;34m'\\nFrist number: '\u001b[0m\u001b[0;34m)\u001b[0m\u001b[0;34m\u001b[0m\u001b[0;34m\u001b[0m\u001b[0m\n\u001b[0m\u001b[1;32m      6\u001b[0m     \u001b[0;32mif\u001b[0m \u001b[0mfirst_number\u001b[0m \u001b[0;34m==\u001b[0m \u001b[0;34m'q'\u001b[0m\u001b[0;34m:\u001b[0m\u001b[0;34m\u001b[0m\u001b[0;34m\u001b[0m\u001b[0m\n\u001b[1;32m      7\u001b[0m         \u001b[0;32mbreak\u001b[0m\u001b[0;34m\u001b[0m\u001b[0;34m\u001b[0m\u001b[0m\n",
            "\u001b[0;32m~/miniconda3/lib/python3.7/site-packages/ipykernel/kernelbase.py\u001b[0m in \u001b[0;36mraw_input\u001b[0;34m(self, prompt)\u001b[0m\n\u001b[1;32m    857\u001b[0m             \u001b[0mself\u001b[0m\u001b[0;34m.\u001b[0m\u001b[0m_parent_ident\u001b[0m\u001b[0;34m,\u001b[0m\u001b[0;34m\u001b[0m\u001b[0;34m\u001b[0m\u001b[0m\n\u001b[1;32m    858\u001b[0m             \u001b[0mself\u001b[0m\u001b[0;34m.\u001b[0m\u001b[0m_parent_header\u001b[0m\u001b[0;34m,\u001b[0m\u001b[0;34m\u001b[0m\u001b[0;34m\u001b[0m\u001b[0m\n\u001b[0;32m--> 859\u001b[0;31m             \u001b[0mpassword\u001b[0m\u001b[0;34m=\u001b[0m\u001b[0;32mFalse\u001b[0m\u001b[0;34m,\u001b[0m\u001b[0;34m\u001b[0m\u001b[0;34m\u001b[0m\u001b[0m\n\u001b[0m\u001b[1;32m    860\u001b[0m         )\n\u001b[1;32m    861\u001b[0m \u001b[0;34m\u001b[0m\u001b[0m\n",
            "\u001b[0;32m~/miniconda3/lib/python3.7/site-packages/ipykernel/kernelbase.py\u001b[0m in \u001b[0;36m_input_request\u001b[0;34m(self, prompt, ident, parent, password)\u001b[0m\n\u001b[1;32m    887\u001b[0m             \u001b[0;32mexcept\u001b[0m \u001b[0mKeyboardInterrupt\u001b[0m\u001b[0;34m:\u001b[0m\u001b[0;34m\u001b[0m\u001b[0;34m\u001b[0m\u001b[0m\n\u001b[1;32m    888\u001b[0m                 \u001b[0;31m# re-raise KeyboardInterrupt, to truncate traceback\u001b[0m\u001b[0;34m\u001b[0m\u001b[0;34m\u001b[0m\u001b[0;34m\u001b[0m\u001b[0m\n\u001b[0;32m--> 889\u001b[0;31m                 \u001b[0;32mraise\u001b[0m \u001b[0mKeyboardInterrupt\u001b[0m\u001b[0;34m\u001b[0m\u001b[0;34m\u001b[0m\u001b[0m\n\u001b[0m\u001b[1;32m    890\u001b[0m             \u001b[0;32melse\u001b[0m\u001b[0;34m:\u001b[0m\u001b[0;34m\u001b[0m\u001b[0;34m\u001b[0m\u001b[0m\n\u001b[1;32m    891\u001b[0m                 \u001b[0;32mbreak\u001b[0m\u001b[0;34m\u001b[0m\u001b[0;34m\u001b[0m\u001b[0m\n",
            "\u001b[0;31mKeyboardInterrupt\u001b[0m: "
          ]
        }
      ]
    },
    {
      "cell_type": "markdown",
      "metadata": {
        "id": "vcenDDxqiuo8",
        "colab_type": "text"
      },
      "source": [
        "En el program anterior, se puede observar que se sigue haciendo el mismo progama que la versión anterior, la gran diferencia es que en este caso se puede introducir el segundo número con un valor de 0, la división no l ahrá sin embargo no se sale del programa ya que está dentro de un ciclo while infinito. Aunque el usuario se puede equivocar, el programa es robusto ante esas equivcaciones y esto lo hace a través del uso de las tres sentencias instrucciones `try`, `except` y `else`, observe que este `else`, se ejecutara si la excepción no se lleva a cabo y el flujo del programa será el normal.\n"
      ]
    },
    {
      "cell_type": "markdown",
      "metadata": {
        "id": "o1MovtP9iuo-",
        "colab_type": "text"
      },
      "source": [
        "### Excepciones cuando el archivo no se encuentra\n",
        "Un error muy común es que al momento de tratar de leer un archivo, este archivo no se encuentre en la dirección especificada o que se encuentre en alguna otra dirección, esto generaría que el prograba abortara su ejecución de manera abrupta, utilizando excepciones se pueden manejar el programa de distinta forma.\n",
        "\n",
        "Observe la siiguiente celda y trate de correr la celda, anote el error que aparace ya que ese código de error lo debemos de utilizar al momento de hacer la implmentación de las excepciones. "
      ]
    },
    {
      "cell_type": "code",
      "metadata": {
        "id": "OzufSzvqiuo_",
        "colab_type": "code",
        "colab": {},
        "outputId": "51f53a95-9c27-4388-bb12-73c7b983c6c6"
      },
      "source": [
        "filename = \"ArchivosEsternos/alicia.text\"\n",
        "\n",
        "with open(filename) as f_obj:\n",
        "    contents = f_obj.read()\n",
        "    print(contents)"
      ],
      "execution_count": null,
      "outputs": [
        {
          "output_type": "error",
          "ename": "FileNotFoundError",
          "evalue": "[Errno 2] No such file or directory: 'ArchivosEsternos/alicia.text'",
          "traceback": [
            "\u001b[0;31m---------------------------------------------------------------------------\u001b[0m",
            "\u001b[0;31mFileNotFoundError\u001b[0m                         Traceback (most recent call last)",
            "\u001b[0;32m<ipython-input-23-517c98e3e771>\u001b[0m in \u001b[0;36m<module>\u001b[0;34m\u001b[0m\n\u001b[1;32m      1\u001b[0m \u001b[0mfilename\u001b[0m \u001b[0;34m=\u001b[0m \u001b[0;34m\"ArchivosEsternos/alicia.text\"\u001b[0m\u001b[0;34m\u001b[0m\u001b[0;34m\u001b[0m\u001b[0m\n\u001b[1;32m      2\u001b[0m \u001b[0;34m\u001b[0m\u001b[0m\n\u001b[0;32m----> 3\u001b[0;31m \u001b[0;32mwith\u001b[0m \u001b[0mopen\u001b[0m\u001b[0;34m(\u001b[0m\u001b[0mfilename\u001b[0m\u001b[0;34m)\u001b[0m \u001b[0;32mas\u001b[0m \u001b[0mf_obj\u001b[0m\u001b[0;34m:\u001b[0m\u001b[0;34m\u001b[0m\u001b[0;34m\u001b[0m\u001b[0m\n\u001b[0m\u001b[1;32m      4\u001b[0m     \u001b[0mcontents\u001b[0m \u001b[0;34m=\u001b[0m \u001b[0mf_obj\u001b[0m\u001b[0;34m.\u001b[0m\u001b[0mread\u001b[0m\u001b[0;34m(\u001b[0m\u001b[0;34m)\u001b[0m\u001b[0;34m\u001b[0m\u001b[0;34m\u001b[0m\u001b[0m\n\u001b[1;32m      5\u001b[0m     \u001b[0mprint\u001b[0m\u001b[0;34m(\u001b[0m\u001b[0mcontents\u001b[0m\u001b[0;34m)\u001b[0m\u001b[0;34m\u001b[0m\u001b[0;34m\u001b[0m\u001b[0m\n",
            "\u001b[0;31mFileNotFoundError\u001b[0m: [Errno 2] No such file or directory: 'ArchivosEsternos/alicia.text'"
          ]
        }
      ]
    },
    {
      "cell_type": "markdown",
      "metadata": {
        "id": "uNOOO0IbiupJ",
        "colab_type": "text"
      },
      "source": [
        "Como el archivo no estaba en la carpeta especificada va a marcar error, en este caso el error es `FileNotFoundError`. Para evitar que el programa salga de manera inesperada, es necesario hacer una implementación con las excepciones. En la siguiente columna se muestra el código"
      ]
    },
    {
      "cell_type": "code",
      "metadata": {
        "id": "UK8kcwR_iupK",
        "colab_type": "code",
        "colab": {},
        "outputId": "3fe6a514-b7b8-4176-e337-9adafaf14e15"
      },
      "source": [
        "filename = \"ArchivosExternos/alicia.text\"\n",
        "\n",
        "try: \n",
        "    with open(filename) as f_obj:\n",
        "        contents = f_obj.read()\n",
        "        \n",
        "except FileNotFoundError:\n",
        "    mensaje_error = \"Lo siento, el archivo \" + filename + \" no existe\"\n",
        "    print(mensaje_error)\n",
        "    "
      ],
      "execution_count": null,
      "outputs": [
        {
          "output_type": "stream",
          "text": [
            "Lo siento, el archivo ArchivosExternos/alicia.text no existe\n"
          ],
          "name": "stdout"
        }
      ]
    },
    {
      "cell_type": "markdown",
      "metadata": {
        "id": "752AL1UUiupl",
        "colab_type": "text"
      },
      "source": [
        "### Analizando Texto\n",
        "\n",
        "Dentro de este contexto se puede nalizar cualquier texto, incluso libros (si se tiene el archivo fuente en texto plano). Una buena página para poder descargar libros en inglés (utlizando texto plano) es a través del portal gutenberg.org.\n",
        "\n",
        "En este caso analizaremos el texto de Peter Pan y contaremos el número de palabras que existen en este libro. De forma prliminar veremeos como se separa una cadena de cracteres en palabras individuales, una vez que se entienda bien el proceso se proce al paso de la generalización para `n` renglones que tiene el libro.\n"
      ]
    },
    {
      "cell_type": "code",
      "metadata": {
        "id": "w0GT9mafiupn",
        "colab_type": "code",
        "colab": {},
        "outputId": "3d45a414-7a39-4a96-95a2-2f5e3940338e"
      },
      "source": [
        "title = \"Peter Pan\"\n",
        "title.split()\n",
        "print(\"El título tiene: \" + str(len(title.split())) + \" palabras\")"
      ],
      "execution_count": null,
      "outputs": [
        {
          "output_type": "stream",
          "text": [
            "El título tiene: 2 palabras\n"
          ],
          "name": "stdout"
        }
      ]
    },
    {
      "cell_type": "markdown",
      "metadata": {
        "id": "Wmo36X40iupv",
        "colab_type": "text"
      },
      "source": [
        "Observe que en la celda anterior, el título está contenido en una cadena de caracteres, con el atributo `split()` se separan las palabras que existen en un renglón y se se ubican en una lista, con el atributo `.len()` se puede obtener el número de elementos que tiene la lista, que en este caso, coincide con las palabras, si esta lógica se generaliza para todo el libro se pueden obtener el número de palabras que tiene el libro, quedando la siguiente celda de código "
      ]
    },
    {
      "cell_type": "code",
      "metadata": {
        "id": "mw1sPQzUiupx",
        "colab_type": "code",
        "colab": {},
        "outputId": "1fa476e5-6f71-4c31-acc6-3fd662e2888b"
      },
      "source": [
        "PeterPanBook = \"ArchivosExternos/PeterPan.txt\"\n",
        "\n",
        "try:\n",
        "    with open(PeterPanBook) as PeterPanObj:\n",
        "        PeterPan = PeterPanObj.read()\n",
        "        \n",
        "except FileNotFoundError:\n",
        "    msg = \"Sorry, the file \" + PeterPanBook + \" no se encuentra\"\n",
        "    \n",
        "else: \n",
        "    palabras = PeterPan.split()\n",
        "    Num_pal = len(palabras)\n",
        "    print(\"El libro de Peter Pan tiene \" + str(Num_pal) + \" palabras\")"
      ],
      "execution_count": null,
      "outputs": [
        {
          "output_type": "stream",
          "text": [
            "El libro de Peter Pan tiene 50765 palabras\n"
          ],
          "name": "stdout"
        }
      ]
    },
    {
      "cell_type": "markdown",
      "metadata": {
        "id": "A168Ouneiup_",
        "colab_type": "text"
      },
      "source": [
        "### Trabajando con múltiples archivos\n",
        "\n",
        "Ahoratrabajemos con más libros, par ano tener que repetir las instrucciones de la celda anterior se ha decidido hacer una función que haga su uso más generalizado. La función es la siguiente\n"
      ]
    },
    {
      "cell_type": "code",
      "metadata": {
        "id": "E87Xe5MhiuqB",
        "colab_type": "code",
        "colab": {}
      },
      "source": [
        "def cuenta_palabras(Nombre_Libro):\n",
        "    \"\"\"Cuenta el número de plabras por libro\"\"\"\n",
        "    dir_archivo = \"ArchivosExternos/\"+Nombre_Libro+'.txt'\n",
        "    \n",
        "    print(dir_archivo)\n",
        "    \n",
        "    try: \n",
        "        with open(dir_archivo) as libro:\n",
        "            libro_cont = libro.read()\n",
        "    except FileNotFoundError:\n",
        "        mensaje_error(\"El libro \" + Nombre_Libro + \" no se encuentra en la biblioteca\")\n",
        "    else:\n",
        "        palabras = libro_cont.split()\n",
        "        Num_pal = len(palabras)\n",
        "        print(\"El libro de Peter Pan tiene \" + str(Num_pal) + \" palabras\")\n",
        "    "
      ],
      "execution_count": null,
      "outputs": []
    },
    {
      "cell_type": "code",
      "metadata": {
        "id": "zbunUIBjiuqK",
        "colab_type": "code",
        "colab": {},
        "outputId": "d97d4a3c-e7a7-44c7-80ca-c730b5204f9f"
      },
      "source": [
        "Nombres = ['Devils_Dictionary','Jungle_Book','Meditations','Oliver_Twist']\n",
        "\n",
        "for libro in Nombres:\n",
        "    cuenta_palabras(libro)"
      ],
      "execution_count": null,
      "outputs": [
        {
          "output_type": "stream",
          "text": [
            "ArchivosExternos/Devils_Dictionary.txt\n",
            "El libro de Peter Pan tiene 63131 palabras\n",
            "ArchivosExternos/Jungle_Book.txt\n",
            "El libro de Peter Pan tiene 53865 palabras\n",
            "ArchivosExternos/Meditations.txt\n",
            "El libro de Peter Pan tiene 75032 palabras\n",
            "ArchivosExternos/Oliver_Twist.txt\n",
            "El libro de Peter Pan tiene 161009 palabras\n"
          ],
          "name": "stdout"
        }
      ]
    },
    {
      "cell_type": "markdown",
      "metadata": {
        "id": "2nfQVJpYiuqV",
        "colab_type": "text"
      },
      "source": [
        "## Ejercicios\n",
        "1. Uno de los problemas mas comunes cuando se piden datos a través del teclado es que el eusuario introduce texto en vez de números. Cuando se trata de convertir la entrada entero, se genera un `TypeError`. Escriba un programa que reciba dos números. Que los sume y que muestre el resutlado. Maneje ej error `TypeError` a través de excepciones de tal manera que cuando el usuario introduzca texto en vez de núero se muestre un error y se vuela repetir el programa como el caso de la división. \n",
        "\n",
        "\n",
        "2. Perros y gatos. Gener dos archivos, uno que se llame `gatos.txt`y otro que se llame `perros.txt` en cada uno ingrese el nombre de 3 animales, haga un porgrama que sea capaz de mostrar en pantalla el nombre de los gatos y que después le pida al usuario que ingrese otros 3 nombres de gatos. Lo mismo tiene que hacer con los nombres de perros"
      ]
    },
    {
      "cell_type": "code",
      "metadata": {
        "id": "RuOpmlLYrjdI",
        "colab_type": "code",
        "colab": {
          "base_uri": "https://localhost:8080/",
          "height": 554
        },
        "outputId": "659bf9ae-3038-4792-dd11-4f4fad7d9918"
      },
      "source": [
        "print(\"Introduce dos números para generar la suma: \")\n",
        "print(\"Enter 'e' para salir: \")\n",
        "\n",
        "while True:\n",
        "    fn = input('\\nFrist number: ')\n",
        "    if fn == 'e':\n",
        "        break\n",
        "    sn = input(\"Second number: \")\n",
        "    if sn == 'e':\n",
        "        break\n",
        "    \n",
        "    try:\n",
        "        answer = int(fn) + int(sn)\n",
        "    except ValueError:\n",
        "        prient(\"No se puede sumar caracteres diferentes a números\")\n",
        "    else:\n",
        "        print(answer);"
      ],
      "execution_count": 40,
      "outputs": [
        {
          "output_type": "stream",
          "text": [
            "Introduce dos números para generar la suma: \n",
            "Enter 'e' para salir: \n",
            "\n",
            "Frist number: 45\n",
            "Second number: 5\n",
            "50\n",
            "\n",
            "Frist number: ol\n",
            "Second number: lk\n"
          ],
          "name": "stdout"
        },
        {
          "output_type": "error",
          "ename": "NameError",
          "evalue": "ignored",
          "traceback": [
            "\u001b[0;31m---------------------------------------------------------------------------\u001b[0m",
            "\u001b[0;31mValueError\u001b[0m                                Traceback (most recent call last)",
            "\u001b[0;32m<ipython-input-40-12087d4026a0>\u001b[0m in \u001b[0;36m<module>\u001b[0;34m()\u001b[0m\n\u001b[1;32m     12\u001b[0m     \u001b[0;32mtry\u001b[0m\u001b[0;34m:\u001b[0m\u001b[0;34m\u001b[0m\u001b[0;34m\u001b[0m\u001b[0m\n\u001b[0;32m---> 13\u001b[0;31m         \u001b[0manswer\u001b[0m \u001b[0;34m=\u001b[0m \u001b[0mint\u001b[0m\u001b[0;34m(\u001b[0m\u001b[0mfn\u001b[0m\u001b[0;34m)\u001b[0m \u001b[0;34m+\u001b[0m \u001b[0mint\u001b[0m\u001b[0;34m(\u001b[0m\u001b[0msn\u001b[0m\u001b[0;34m)\u001b[0m\u001b[0;34m\u001b[0m\u001b[0;34m\u001b[0m\u001b[0m\n\u001b[0m\u001b[1;32m     14\u001b[0m     \u001b[0;32mexcept\u001b[0m \u001b[0mValueError\u001b[0m\u001b[0;34m:\u001b[0m\u001b[0;34m\u001b[0m\u001b[0;34m\u001b[0m\u001b[0m\n",
            "\u001b[0;31mValueError\u001b[0m: invalid literal for int() with base 10: 'ol'",
            "\nDuring handling of the above exception, another exception occurred:\n",
            "\u001b[0;31mNameError\u001b[0m                                 Traceback (most recent call last)",
            "\u001b[0;32m<ipython-input-40-12087d4026a0>\u001b[0m in \u001b[0;36m<module>\u001b[0;34m()\u001b[0m\n\u001b[1;32m     13\u001b[0m         \u001b[0manswer\u001b[0m \u001b[0;34m=\u001b[0m \u001b[0mint\u001b[0m\u001b[0;34m(\u001b[0m\u001b[0mfn\u001b[0m\u001b[0;34m)\u001b[0m \u001b[0;34m+\u001b[0m \u001b[0mint\u001b[0m\u001b[0;34m(\u001b[0m\u001b[0msn\u001b[0m\u001b[0;34m)\u001b[0m\u001b[0;34m\u001b[0m\u001b[0;34m\u001b[0m\u001b[0m\n\u001b[1;32m     14\u001b[0m     \u001b[0;32mexcept\u001b[0m \u001b[0mValueError\u001b[0m\u001b[0;34m:\u001b[0m\u001b[0;34m\u001b[0m\u001b[0;34m\u001b[0m\u001b[0m\n\u001b[0;32m---> 15\u001b[0;31m         \u001b[0mprient\u001b[0m\u001b[0;34m(\u001b[0m\u001b[0;34m\"No se puede sumar caracteres diferentes a números\"\u001b[0m\u001b[0;34m)\u001b[0m\u001b[0;34m\u001b[0m\u001b[0;34m\u001b[0m\u001b[0m\n\u001b[0m\u001b[1;32m     16\u001b[0m     \u001b[0;32melse\u001b[0m\u001b[0;34m:\u001b[0m\u001b[0;34m\u001b[0m\u001b[0;34m\u001b[0m\u001b[0m\n\u001b[1;32m     17\u001b[0m         \u001b[0mprint\u001b[0m\u001b[0;34m(\u001b[0m\u001b[0manswer\u001b[0m\u001b[0;34m)\u001b[0m\u001b[0;34m;\u001b[0m\u001b[0;34m\u001b[0m\u001b[0;34m\u001b[0m\u001b[0m\n",
            "\u001b[0;31mNameError\u001b[0m: name 'prient' is not defined"
          ]
        }
      ]
    },
    {
      "cell_type": "code",
      "metadata": {
        "id": "zDrq81_Jr_Zx",
        "colab_type": "code",
        "colab": {}
      },
      "source": [
        "dog= 'perros.txt'\n",
        "with open (dog,'r+') as regi:\n",
        "  do=regi.read()\n",
        "  print(\"Nombre de perros\")\n",
        "  print(do)\n",
        "  regi.write(input(\"Ingresa el nombre del perro:  \"))\n",
        "  regi.write('\\n')\n",
        "  regi.write(input(\"Ingresa el nombre del perro: \"))\n",
        "  regi.write('\\n')\n",
        "  regi.write(input(\"Ingresa el nombre del perro: \"))\n",
        "  regi.write('\\n')\n",
        "with open (dog,'r+') as dogi:\n",
        "  a=dogi.read()\n",
        "  print(\"Nombre de perros\")\n",
        "  print(a)\n",
        "\n",
        "\n",
        "cat= 'gatos.txt'\n",
        "with open (cat,'r+') as ct:\n",
        "  do=ct.read()\n",
        "  print(\"Nombre de gatos\")\n",
        "  print(do)\n",
        "  ct.write(input(\"Ingresa el nombre del gato:  \"))\n",
        "  ct.write('\\n')\n",
        "  ct.write(input(\"Ingresa el nombre del gato: \"))\n",
        "  ct.write('\\n')\n",
        "  ct.write(input(\"Ingresa el nombre del gato: \"))\n",
        "  ct.write('\\n')\n",
        "with open (cat,'r+') as cc:\n",
        "  b=cc.read()\n",
        "  print(\"Nombre de gatos\")\n",
        "  print(b)"
      ],
      "execution_count": null,
      "outputs": []
    },
    {
      "cell_type": "markdown",
      "metadata": {
        "id": "AgfZpU7WiuqX",
        "colab_type": "text"
      },
      "source": [
        "# Almacenando Datos\n",
        "Algunod programas requieren guardar cierta infromación que ha recibido del ususario o información que se ha generado a lo largo de la ejecución del programa, un ejemplo muy común es en los videojuegos donde el usuario introduce sus datos y configuraciones preferrenciales para el juego, esta información es muy importante para el videojuego y se tienen que almacenar, primero en una estructura de dato como listas o diccionarios, y después en un archivo. Cuando el usuario cierra el programa la información quedará guardada en el archivo y cuando se requiera el archivo estará disponible para su uso. Una manera sencilla de hacer esto es através del módulo `json`.\n",
        "\n",
        "El módulo `json` ayuda a almacenar estructuras de datos simples que utiliza pythen en algun archivo para después cargar la información del archivo en caso de que se requiera utilizar. También se puede utilizar el `json` para compartir información entre difreentes programas de Python, la gran ventaja es que no sólo es compatible con Python, sino que el módulo `json` se ha podido generalizar para  diferentes lenguajes de programación.\n",
        "\n",
        "*El formato JSON (JavaScript Object Notation) inciialmente fue desarrollado para JavaScript. Sin embargo, se ha vuelto un estándar en tre los diferentes lenguajes de programación incluído Python.*\n",
        "\n",
        "## Usando json.dump() y json.load()\n",
        "\n",
        "A continuación se muestra un programa en el que se ejemplifica el uso de estas dos funciones par apoder almacenar las estructuras de datos. \n",
        "\n",
        "En el primer programa se muestra el uso de `json.dump()` que recibe dos argumentos, la información que desea lamacenar y arhivo donde lo queiere guardar, observe el código de la siguiente celda"
      ]
    },
    {
      "cell_type": "code",
      "metadata": {
        "id": "plCKs9sviuqY",
        "colab_type": "code",
        "colab": {}
      },
      "source": [
        "import json\n",
        "\n",
        "numbers = [2,3,-1,20,18,4,9]\n",
        "\n",
        "archivo = 'ArchivosExternos/Numeros.json'\n",
        "with open(archivo,'w') as objArch:\n",
        "    json.dump(numbers,objArch)"
      ],
      "execution_count": null,
      "outputs": []
    },
    {
      "cell_type": "markdown",
      "metadata": {
        "id": "SpEuL314iuqg",
        "colab_type": "text"
      },
      "source": [
        "Si abre el achivo que se ubica dentro de la carpeta `ArchivosExternos/Numeros.json` observará que en archivo se encuentra la lista, no es texto, es una estructura de datos. \n",
        "\n",
        "En la siguiente celda se muestra el uso de `json.load` par apoder abrir un archivo y cargar las estructuras de datos para su uso a lo largo del programa.\n",
        "\n"
      ]
    },
    {
      "cell_type": "code",
      "metadata": {
        "id": "-UHcLIz7iuqi",
        "colab_type": "code",
        "colab": {},
        "outputId": "da6dbd7b-cc03-415f-ef22-2910d3dfa778"
      },
      "source": [
        "import json\n",
        "\n",
        "archivo = 'ArchivosExternos/Numeros.json'\n",
        "with open(archivo) as obj_archivo:\n",
        "    numeros = json.load(obj_archivo)\n",
        "    \n",
        "print(numeros)"
      ],
      "execution_count": null,
      "outputs": [
        {
          "output_type": "stream",
          "text": [
            "[2, 3, -1, 20, 18, 4, 9]\n"
          ],
          "name": "stdout"
        }
      ]
    },
    {
      "cell_type": "code",
      "metadata": {
        "id": "N3XD4o84iuqr",
        "colab_type": "code",
        "colab": {}
      },
      "source": [
        ""
      ],
      "execution_count": null,
      "outputs": []
    }
  ]
}